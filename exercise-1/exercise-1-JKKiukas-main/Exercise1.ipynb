{
 "cells": [
  {
   "cell_type": "code",
   "execution_count": 1,
   "id": "7b95f1b2-4d79-414c-9af8-abe1b303d0a1",
   "metadata": {},
   "outputs": [
    {
     "name": "stdin",
     "output_type": "stream",
     "text": [
      "Please enter your first name:  Jonne\n",
      "Please enter your last name:  Kiukas\n"
     ]
    },
    {
     "name": "stdout",
     "output_type": "stream",
     "text": [
      "\n",
      "My name is Jonne and I give eating ice cream a score of 9 out of 10!\n",
      "I am Jonne Kiukas and my sleeping enjoyment rating is 10 / 10!\n",
      "Based on the factors above, my happiness rating is 9.5 out of 10, or 95.0 %!\n",
      "\n",
      "<class 'int'>\n",
      "<class 'str'>\n",
      "<class 'float'>\n"
     ]
    }
   ],
   "source": [
    "ice_cream_rating = 9\n",
    "sleeping_rating = 10\n",
    "\n",
    "first_name = input(\"Please enter your first name: \")\n",
    "last_name = input(\"Please enter your last name: \")\n",
    "my_name = first_name + \" \" + last_name\n",
    "happiness_rating = (ice_cream_rating + sleeping_rating) / 2\n",
    "\n",
    "print(\"\\nMy name is\", first_name, \"and I give eating ice cream a score of\", ice_cream_rating, \"out of 10!\")\n",
    "print(\"I am\", my_name, \"and my sleeping enjoyment rating is\", sleeping_rating, \"/ 10!\")\n",
    "print(\"Based on the factors above, my happiness rating is\", happiness_rating, \"out of 10, or\", happiness_rating * 10,\n",
    "      \"%!\\n\")\n",
    "\n",
    "# All the data types below makes sense.\n",
    "print(type(ice_cream_rating))\n",
    "print(type(first_name))\n",
    "print(type(happiness_rating))\n"
   ]
  },
  {
   "cell_type": "code",
   "execution_count": null,
   "id": "d381d942-566f-4529-a9a2-ce1ce1f9a5c0",
   "metadata": {},
   "outputs": [],
   "source": []
  }
 ],
 "metadata": {
  "kernelspec": {
   "display_name": "Python 3 (ipykernel)",
   "language": "python",
   "name": "python3"
  },
  "language_info": {
   "codemirror_mode": {
    "name": "ipython",
    "version": 3
   },
   "file_extension": ".py",
   "mimetype": "text/x-python",
   "name": "python",
   "nbconvert_exporter": "python",
   "pygments_lexer": "ipython3",
   "version": "3.10.6"
  }
 },
 "nbformat": 4,
 "nbformat_minor": 5
}
